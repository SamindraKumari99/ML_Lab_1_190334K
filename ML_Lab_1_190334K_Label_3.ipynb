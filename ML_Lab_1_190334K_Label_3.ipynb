{
  "nbformat": 4,
  "nbformat_minor": 0,
  "metadata": {
    "colab": {
      "provenance": []
    },
    "kernelspec": {
      "name": "python3",
      "display_name": "Python 3"
    },
    "language_info": {
      "name": "python"
    }
  },
  "cells": [
    {
      "cell_type": "markdown",
      "source": [
        "Define label name and feature names"
      ],
      "metadata": {
        "id": "u722--M8PrMo"
      }
    },
    {
      "cell_type": "code",
      "execution_count": null,
      "metadata": {
        "id": "-qLEXTkqPkpm"
      },
      "outputs": [],
      "source": [
        "import pandas as pd\n",
        "import numpy as np\n",
        "\n",
        "LBL = \"label_3\" # Speaker age\n",
        "LABELS = ['label_1','label_2', 'label_3', 'label_4']\n",
        "FEATURES = [f'feature_{i}' for i in range(1, 257)]\n"
      ]
    },
    {
      "cell_type": "markdown",
      "source": [
        "Read training,validation and test data"
      ],
      "metadata": {
        "id": "QqDq0aTB4Nbq"
      }
    },
    {
      "cell_type": "code",
      "source": [
        "from google.colab import drive\n",
        "drive.mount('/content/drive')\n",
        "\n",
        "\n",
        "train_df = pd.read_csv(\"/content/drive/MyDrive/ML_lab1/train.csv\")\n",
        "valid_df = pd.read_csv(\"/content/drive/MyDrive/ML_lab1/valid.csv\")\n",
        "test_df = pd.read_csv(\"/content/drive/MyDrive/ML_lab1/test.csv\")\n"
      ],
      "metadata": {
        "id": "ZyUSroZ1Ty8e",
        "colab": {
          "base_uri": "https://localhost:8080/"
        },
        "outputId": "fd139a50-bdd9-4c1b-b730-bd14ca86eb4d"
      },
      "execution_count": null,
      "outputs": [
        {
          "output_type": "stream",
          "name": "stdout",
          "text": [
            "Mounted at /content/drive\n"
          ]
        }
      ]
    },
    {
      "cell_type": "markdown",
      "source": [
        "Initialize dictionaries to store data"
      ],
      "metadata": {
        "id": "KiuiG78eqBmH"
      }
    },
    {
      "cell_type": "code",
      "source": [
        "train_x = {}\n",
        "valid_x = {}\n",
        "test_x = {}\n",
        "train_y = {}\n",
        "valid_y = {}\n",
        "test_y = {}"
      ],
      "metadata": {
        "id": "fX7zKhl7l-AN"
      },
      "execution_count": null,
      "outputs": []
    },
    {
      "cell_type": "markdown",
      "source": [
        "Prepare and preprocess the data"
      ],
      "metadata": {
        "id": "u5cPLjm34k-_"
      }
    },
    {
      "cell_type": "code",
      "source": [
        "from sklearn.preprocessing import StandardScaler\n",
        "\n",
        "\n",
        "scaler = StandardScaler()\n",
        "train_x[LBL] = pd.DataFrame(scaler.fit_transform(train_df.drop(LABELS, axis=1)), columns = FEATURES)\n",
        "train_y[LBL] = train_df[LBL]\n",
        "valid_x[LBL] = pd.DataFrame(scaler.transform(valid_df.drop(LABELS, axis=1)), columns = FEATURES)\n",
        "valid_y[LBL] = valid_df[LBL]\n",
        "test_x[LBL] = pd.DataFrame(scaler.transform(test_df.drop(LABELS, axis=1)), columns=FEATURES)"
      ],
      "metadata": {
        "id": "VGLTRP-o4d1o"
      },
      "execution_count": null,
      "outputs": []
    },
    {
      "cell_type": "code",
      "source": [],
      "metadata": {
        "id": "gdxZL4QMgM48"
      },
      "execution_count": null,
      "outputs": []
    },
    {
      "cell_type": "markdown",
      "source": [
        "# For Label 3"
      ],
      "metadata": {
        "id": "nbvKQmri51rX"
      }
    },
    {
      "cell_type": "markdown",
      "source": [
        "Train SVC classifier"
      ],
      "metadata": {
        "id": "IvLhn70GqJH_"
      }
    },
    {
      "cell_type": "code",
      "source": [
        "from sklearn import svm\n",
        "\n",
        "classifier = svm.SVC(kernel = 'linear')\n",
        "classifier.fit(train_x[LBL], train_y[LBL])"
      ],
      "metadata": {
        "id": "SLG6HnqlqLLt",
        "colab": {
          "base_uri": "https://localhost:8080/",
          "height": 74
        },
        "outputId": "3dbe4040-05a2-4873-ddae-4e1b2df640cf"
      },
      "execution_count": null,
      "outputs": [
        {
          "output_type": "execute_result",
          "data": {
            "text/plain": [
              "SVC(kernel='linear')"
            ],
            "text/html": [
              "<style>#sk-container-id-1 {color: black;background-color: white;}#sk-container-id-1 pre{padding: 0;}#sk-container-id-1 div.sk-toggleable {background-color: white;}#sk-container-id-1 label.sk-toggleable__label {cursor: pointer;display: block;width: 100%;margin-bottom: 0;padding: 0.3em;box-sizing: border-box;text-align: center;}#sk-container-id-1 label.sk-toggleable__label-arrow:before {content: \"▸\";float: left;margin-right: 0.25em;color: #696969;}#sk-container-id-1 label.sk-toggleable__label-arrow:hover:before {color: black;}#sk-container-id-1 div.sk-estimator:hover label.sk-toggleable__label-arrow:before {color: black;}#sk-container-id-1 div.sk-toggleable__content {max-height: 0;max-width: 0;overflow: hidden;text-align: left;background-color: #f0f8ff;}#sk-container-id-1 div.sk-toggleable__content pre {margin: 0.2em;color: black;border-radius: 0.25em;background-color: #f0f8ff;}#sk-container-id-1 input.sk-toggleable__control:checked~div.sk-toggleable__content {max-height: 200px;max-width: 100%;overflow: auto;}#sk-container-id-1 input.sk-toggleable__control:checked~label.sk-toggleable__label-arrow:before {content: \"▾\";}#sk-container-id-1 div.sk-estimator input.sk-toggleable__control:checked~label.sk-toggleable__label {background-color: #d4ebff;}#sk-container-id-1 div.sk-label input.sk-toggleable__control:checked~label.sk-toggleable__label {background-color: #d4ebff;}#sk-container-id-1 input.sk-hidden--visually {border: 0;clip: rect(1px 1px 1px 1px);clip: rect(1px, 1px, 1px, 1px);height: 1px;margin: -1px;overflow: hidden;padding: 0;position: absolute;width: 1px;}#sk-container-id-1 div.sk-estimator {font-family: monospace;background-color: #f0f8ff;border: 1px dotted black;border-radius: 0.25em;box-sizing: border-box;margin-bottom: 0.5em;}#sk-container-id-1 div.sk-estimator:hover {background-color: #d4ebff;}#sk-container-id-1 div.sk-parallel-item::after {content: \"\";width: 100%;border-bottom: 1px solid gray;flex-grow: 1;}#sk-container-id-1 div.sk-label:hover label.sk-toggleable__label {background-color: #d4ebff;}#sk-container-id-1 div.sk-serial::before {content: \"\";position: absolute;border-left: 1px solid gray;box-sizing: border-box;top: 0;bottom: 0;left: 50%;z-index: 0;}#sk-container-id-1 div.sk-serial {display: flex;flex-direction: column;align-items: center;background-color: white;padding-right: 0.2em;padding-left: 0.2em;position: relative;}#sk-container-id-1 div.sk-item {position: relative;z-index: 1;}#sk-container-id-1 div.sk-parallel {display: flex;align-items: stretch;justify-content: center;background-color: white;position: relative;}#sk-container-id-1 div.sk-item::before, #sk-container-id-1 div.sk-parallel-item::before {content: \"\";position: absolute;border-left: 1px solid gray;box-sizing: border-box;top: 0;bottom: 0;left: 50%;z-index: -1;}#sk-container-id-1 div.sk-parallel-item {display: flex;flex-direction: column;z-index: 1;position: relative;background-color: white;}#sk-container-id-1 div.sk-parallel-item:first-child::after {align-self: flex-end;width: 50%;}#sk-container-id-1 div.sk-parallel-item:last-child::after {align-self: flex-start;width: 50%;}#sk-container-id-1 div.sk-parallel-item:only-child::after {width: 0;}#sk-container-id-1 div.sk-dashed-wrapped {border: 1px dashed gray;margin: 0 0.4em 0.5em 0.4em;box-sizing: border-box;padding-bottom: 0.4em;background-color: white;}#sk-container-id-1 div.sk-label label {font-family: monospace;font-weight: bold;display: inline-block;line-height: 1.2em;}#sk-container-id-1 div.sk-label-container {text-align: center;}#sk-container-id-1 div.sk-container {/* jupyter's `normalize.less` sets `[hidden] { display: none; }` but bootstrap.min.css set `[hidden] { display: none !important; }` so we also need the `!important` here to be able to override the default hidden behavior on the sphinx rendered scikit-learn.org. See: https://github.com/scikit-learn/scikit-learn/issues/21755 */display: inline-block !important;position: relative;}#sk-container-id-1 div.sk-text-repr-fallback {display: none;}</style><div id=\"sk-container-id-1\" class=\"sk-top-container\"><div class=\"sk-text-repr-fallback\"><pre>SVC(kernel=&#x27;linear&#x27;)</pre><b>In a Jupyter environment, please rerun this cell to show the HTML representation or trust the notebook. <br />On GitHub, the HTML representation is unable to render, please try loading this page with nbviewer.org.</b></div><div class=\"sk-container\" hidden><div class=\"sk-item\"><div class=\"sk-estimator sk-toggleable\"><input class=\"sk-toggleable__control sk-hidden--visually\" id=\"sk-estimator-id-1\" type=\"checkbox\" checked><label for=\"sk-estimator-id-1\" class=\"sk-toggleable__label sk-toggleable__label-arrow\">SVC</label><div class=\"sk-toggleable__content\"><pre>SVC(kernel=&#x27;linear&#x27;)</pre></div></div></div></div></div>"
            ]
          },
          "metadata": {},
          "execution_count": 5
        }
      ]
    },
    {
      "cell_type": "markdown",
      "source": [
        "Evaluate performance of SVC classifier on the validation dataset"
      ],
      "metadata": {
        "id": "itU-sbB2sJ_t"
      }
    },
    {
      "cell_type": "code",
      "source": [
        "from sklearn import metrics\n",
        "\n",
        "y_predict_valid = classifier.predict(valid_x[LBL])\n",
        "\n",
        "print(\"SVC Classifier Evaluation on Validation Set:\")\n",
        "print(\"Accuracy:\", metrics.accuracy_score(valid_y[LBL], y_predict_valid))\n",
        "print(\"Precision:\", metrics.precision_score(valid_y[LBL], y_predict_valid))\n",
        "print(\"Recall:\", metrics.recall_score(valid_y[LBL], y_predict_valid))\n"
      ],
      "metadata": {
        "id": "ZFzaWnX2sHli",
        "colab": {
          "base_uri": "https://localhost:8080/"
        },
        "outputId": "5ce6bddc-3310-4f6a-aef5-ab009c18d3c7"
      },
      "execution_count": null,
      "outputs": [
        {
          "output_type": "stream",
          "name": "stdout",
          "text": [
            "SVC Classifier Evaluation on Validation Set:\n",
            "Accuracy: 0.9986666666666667\n",
            "Precision: 1.0\n",
            "Recall: 0.9983552631578947\n"
          ]
        }
      ]
    },
    {
      "cell_type": "markdown",
      "source": [
        "Predict lable 1 for test dataset  using SVM classifier"
      ],
      "metadata": {
        "id": "CmYRaaiaGa4h"
      }
    },
    {
      "cell_type": "code",
      "source": [
        "y_predict_test_before = classifier.predict(test_x[LBL])\n"
      ],
      "metadata": {
        "id": "azoJC5FnGa4n"
      },
      "execution_count": null,
      "outputs": []
    },
    {
      "cell_type": "markdown",
      "source": [
        "## Applying Feature Engineering techniques"
      ],
      "metadata": {
        "id": "i7q3Bj5z64IJ"
      }
    },
    {
      "cell_type": "markdown",
      "source": [
        "### Using SelectKBest"
      ],
      "metadata": {
        "id": "qzM31JWJfUQe"
      }
    },
    {
      "cell_type": "markdown",
      "source": [
        "Apply SelectKBest on original features"
      ],
      "metadata": {
        "id": "Li6zKtCnfowQ"
      }
    },
    {
      "cell_type": "code",
      "source": [
        "from sklearn.feature_selection import SelectKBest, f_classif\n",
        "\n",
        "selector = SelectKBest(f_classif, k=20)\n",
        "x_selected = selector.fit_transform(train_x[LBL], train_y[LBL])"
      ],
      "metadata": {
        "id": "WXzCxiCtfLlr"
      },
      "execution_count": null,
      "outputs": []
    },
    {
      "cell_type": "code",
      "source": [
        "train_x_trans = pd.DataFrame(x_selected)\n",
        "valid_x_trans = pd.DataFrame(selector.transform(valid_x[LBL]))\n",
        "test_x_trans = pd.DataFrame(selector.transform(test_x[LBL]))\n",
        "\n",
        "print(\"Shape after feature reduction:\", train_x_trans.shape)"
      ],
      "metadata": {
        "id": "C_AaZ7swzyV8",
        "colab": {
          "base_uri": "https://localhost:8080/"
        },
        "outputId": "483668eb-523a-4d69-b511-6188c8a0ca4c"
      },
      "execution_count": null,
      "outputs": [
        {
          "output_type": "stream",
          "name": "stdout",
          "text": [
            "Shape after feature reduction: (28520, 20)\n"
          ]
        }
      ]
    },
    {
      "cell_type": "markdown",
      "source": [
        "Train the SVC classifier on SelectKBest-selected features\n"
      ],
      "metadata": {
        "id": "z8iS7v7D7ZUe"
      }
    },
    {
      "cell_type": "code",
      "source": [
        "classifier = svm.SVC(kernel='linear')\n",
        "classifier.fit(train_x_trans, train_y[LBL])"
      ],
      "metadata": {
        "id": "9pAUm4O8z1WS",
        "colab": {
          "base_uri": "https://localhost:8080/",
          "height": 74
        },
        "outputId": "bead7b3f-c97b-4406-a415-2f919547bf80"
      },
      "execution_count": null,
      "outputs": [
        {
          "output_type": "execute_result",
          "data": {
            "text/plain": [
              "SVC(kernel='linear')"
            ],
            "text/html": [
              "<style>#sk-container-id-2 {color: black;background-color: white;}#sk-container-id-2 pre{padding: 0;}#sk-container-id-2 div.sk-toggleable {background-color: white;}#sk-container-id-2 label.sk-toggleable__label {cursor: pointer;display: block;width: 100%;margin-bottom: 0;padding: 0.3em;box-sizing: border-box;text-align: center;}#sk-container-id-2 label.sk-toggleable__label-arrow:before {content: \"▸\";float: left;margin-right: 0.25em;color: #696969;}#sk-container-id-2 label.sk-toggleable__label-arrow:hover:before {color: black;}#sk-container-id-2 div.sk-estimator:hover label.sk-toggleable__label-arrow:before {color: black;}#sk-container-id-2 div.sk-toggleable__content {max-height: 0;max-width: 0;overflow: hidden;text-align: left;background-color: #f0f8ff;}#sk-container-id-2 div.sk-toggleable__content pre {margin: 0.2em;color: black;border-radius: 0.25em;background-color: #f0f8ff;}#sk-container-id-2 input.sk-toggleable__control:checked~div.sk-toggleable__content {max-height: 200px;max-width: 100%;overflow: auto;}#sk-container-id-2 input.sk-toggleable__control:checked~label.sk-toggleable__label-arrow:before {content: \"▾\";}#sk-container-id-2 div.sk-estimator input.sk-toggleable__control:checked~label.sk-toggleable__label {background-color: #d4ebff;}#sk-container-id-2 div.sk-label input.sk-toggleable__control:checked~label.sk-toggleable__label {background-color: #d4ebff;}#sk-container-id-2 input.sk-hidden--visually {border: 0;clip: rect(1px 1px 1px 1px);clip: rect(1px, 1px, 1px, 1px);height: 1px;margin: -1px;overflow: hidden;padding: 0;position: absolute;width: 1px;}#sk-container-id-2 div.sk-estimator {font-family: monospace;background-color: #f0f8ff;border: 1px dotted black;border-radius: 0.25em;box-sizing: border-box;margin-bottom: 0.5em;}#sk-container-id-2 div.sk-estimator:hover {background-color: #d4ebff;}#sk-container-id-2 div.sk-parallel-item::after {content: \"\";width: 100%;border-bottom: 1px solid gray;flex-grow: 1;}#sk-container-id-2 div.sk-label:hover label.sk-toggleable__label {background-color: #d4ebff;}#sk-container-id-2 div.sk-serial::before {content: \"\";position: absolute;border-left: 1px solid gray;box-sizing: border-box;top: 0;bottom: 0;left: 50%;z-index: 0;}#sk-container-id-2 div.sk-serial {display: flex;flex-direction: column;align-items: center;background-color: white;padding-right: 0.2em;padding-left: 0.2em;position: relative;}#sk-container-id-2 div.sk-item {position: relative;z-index: 1;}#sk-container-id-2 div.sk-parallel {display: flex;align-items: stretch;justify-content: center;background-color: white;position: relative;}#sk-container-id-2 div.sk-item::before, #sk-container-id-2 div.sk-parallel-item::before {content: \"\";position: absolute;border-left: 1px solid gray;box-sizing: border-box;top: 0;bottom: 0;left: 50%;z-index: -1;}#sk-container-id-2 div.sk-parallel-item {display: flex;flex-direction: column;z-index: 1;position: relative;background-color: white;}#sk-container-id-2 div.sk-parallel-item:first-child::after {align-self: flex-end;width: 50%;}#sk-container-id-2 div.sk-parallel-item:last-child::after {align-self: flex-start;width: 50%;}#sk-container-id-2 div.sk-parallel-item:only-child::after {width: 0;}#sk-container-id-2 div.sk-dashed-wrapped {border: 1px dashed gray;margin: 0 0.4em 0.5em 0.4em;box-sizing: border-box;padding-bottom: 0.4em;background-color: white;}#sk-container-id-2 div.sk-label label {font-family: monospace;font-weight: bold;display: inline-block;line-height: 1.2em;}#sk-container-id-2 div.sk-label-container {text-align: center;}#sk-container-id-2 div.sk-container {/* jupyter's `normalize.less` sets `[hidden] { display: none; }` but bootstrap.min.css set `[hidden] { display: none !important; }` so we also need the `!important` here to be able to override the default hidden behavior on the sphinx rendered scikit-learn.org. See: https://github.com/scikit-learn/scikit-learn/issues/21755 */display: inline-block !important;position: relative;}#sk-container-id-2 div.sk-text-repr-fallback {display: none;}</style><div id=\"sk-container-id-2\" class=\"sk-top-container\"><div class=\"sk-text-repr-fallback\"><pre>SVC(kernel=&#x27;linear&#x27;)</pre><b>In a Jupyter environment, please rerun this cell to show the HTML representation or trust the notebook. <br />On GitHub, the HTML representation is unable to render, please try loading this page with nbviewer.org.</b></div><div class=\"sk-container\" hidden><div class=\"sk-item\"><div class=\"sk-estimator sk-toggleable\"><input class=\"sk-toggleable__control sk-hidden--visually\" id=\"sk-estimator-id-2\" type=\"checkbox\" checked><label for=\"sk-estimator-id-2\" class=\"sk-toggleable__label sk-toggleable__label-arrow\">SVC</label><div class=\"sk-toggleable__content\"><pre>SVC(kernel=&#x27;linear&#x27;)</pre></div></div></div></div></div>"
            ]
          },
          "metadata": {},
          "execution_count": 10
        }
      ]
    },
    {
      "cell_type": "markdown",
      "source": [
        "Evaluate performance of SVC classifier on SelectKBest-selected features using validation dataset"
      ],
      "metadata": {
        "id": "UaUrH9zI7cyS"
      }
    },
    {
      "cell_type": "code",
      "source": [
        "y_predict_valid_pca = classifier.predict(valid_x_trans)"
      ],
      "metadata": {
        "id": "nCwbX_gcz4ZX"
      },
      "execution_count": null,
      "outputs": []
    },
    {
      "cell_type": "code",
      "source": [
        "print(\"SVC Classifier Evaluation on SelectKBest-selected features (Validation Set):\")\n",
        "print(\"Accuracy:\", metrics.accuracy_score(valid_y[LBL], y_predict_valid_pca))\n",
        "print(\"Precision:\", metrics.precision_score(valid_y[LBL], y_predict_valid_pca))\n",
        "print(\"Recall:\", metrics.recall_score(valid_y[LBL], y_predict_valid_pca))"
      ],
      "metadata": {
        "id": "8tmlDcLAz6ua",
        "colab": {
          "base_uri": "https://localhost:8080/"
        },
        "outputId": "dc0ec60d-5cb6-4cd5-c19c-dd43aa6f2275"
      },
      "execution_count": null,
      "outputs": [
        {
          "output_type": "stream",
          "name": "stdout",
          "text": [
            "SVC Classifier Evaluation on SelectKBest-selected features (Validation Set):\n",
            "Accuracy: 0.984\n",
            "Precision: 0.9917491749174917\n",
            "Recall: 0.9884868421052632\n"
          ]
        }
      ]
    },
    {
      "cell_type": "markdown",
      "source": [
        "Predict lable 1 for test dataset after feature reduction"
      ],
      "metadata": {
        "id": "nfmac3ooISPJ"
      }
    },
    {
      "cell_type": "code",
      "source": [
        "y_predict_test_after = classifier.predict(valid_x_trans)"
      ],
      "metadata": {
        "id": "kIf-ZcvwISPS"
      },
      "execution_count": null,
      "outputs": []
    },
    {
      "cell_type": "code",
      "source": [
        "output_df = pd.DataFrame({\n",
        "    'Predicted labels before feature engineering': y_predict_test_before,\n",
        "    'Predicted labels after feature engineering': y_predict_test_after,\n",
        "    'No of new features': test_x_trans.shape[1]\n",
        "})\n",
        "\n",
        "\n",
        "for i in range(test_x_trans.shape[1]):\n",
        "    output_df[f'new_feature_{i+1}'] = test_x_trans.iloc[:, i]\n",
        "# Create a list of new column names\n",
        "new_columns = [f'new_feature_{i+1}' for i in range(test_x_trans.shape[1], 256)]\n",
        "\n",
        "# Concatenate the new columns to the existing DataFrame\n",
        "output_df = pd.concat([output_df, pd.DataFrame(columns=new_columns)], axis=1)\n"
      ],
      "metadata": {
        "id": "YjZsWp65rqmu"
      },
      "execution_count": null,
      "outputs": []
    },
    {
      "cell_type": "code",
      "source": [
        "output_df.to_csv('/content/drive/MyDrive/Colab Notebooks/files/190334K_label_3.csv', index=False)"
      ],
      "metadata": {
        "id": "2r0_w4HqrtDO"
      },
      "execution_count": null,
      "outputs": []
    }
  ]
}